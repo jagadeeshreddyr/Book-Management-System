{
  "cells": [
    {
      "cell_type": "markdown",
      "metadata": {
        "id": "view-in-github",
        "colab_type": "text"
      },
      "source": [
        "<a href=\"https://colab.research.google.com/github/jagadeeshreddyr/Book-Management-System/blob/main/crop_yield_w_s_cnn_rnn.ipynb\" target=\"_parent\"><img src=\"https://colab.research.google.com/assets/colab-badge.svg\" alt=\"Open In Colab\"/></a>"
      ]
    },
    {
      "cell_type": "code",
      "execution_count": null,
      "metadata": {
        "id": "X_zFZZgIprdS"
      },
      "outputs": [],
      "source": [
        "import numpy as np\n",
        "import pandas as pd\n",
        "import matplotlib.pyplot as plt\n",
        "from sklearn.model_selection import train_test_split\n",
        "from sklearn.preprocessing import MinMaxScaler\n",
        "from sklearn.metrics import mean_absolute_error, mean_squared_error, r2_score\n",
        "from tensorflow.keras.models import Sequential\n",
        "from tensorflow.keras.layers import Conv2D, MaxPooling2D, LSTM, Dense, Flatten, Dropout, Input, Concatenate, Conv1D, MaxPooling1D, AveragePooling2D\n",
        "from tensorflow.keras.models import Model\n",
        "from tensorflow.keras.callbacks import EarlyStopping\n",
        "\n",
        "import seaborn as sns\n",
        "\n",
        "\n",
        "plt.style.use('ggplot')"
      ]
    },
    {
      "cell_type": "code",
      "source": [],
      "metadata": {
        "id": "PK4AwdmvkCjg"
      },
      "execution_count": null,
      "outputs": []
    },
    {
      "cell_type": "code",
      "execution_count": null,
      "metadata": {
        "id": "H_Tu7P9sprdW",
        "colab": {
          "base_uri": "https://localhost:8080/"
        },
        "outputId": "d72ff148-a99b-42a3-c380-5b50070b3385"
      },
      "outputs": [
        {
          "output_type": "execute_result",
          "data": {
            "text/plain": [
              "Index(['Year', 'Season', 'total_Rainfall', 'Wind Speed', 'Temperature (°C)',\n",
              "       'NDVI', 'LST', 'rsm', 'Relative Humidity', 'Yield (Tonnes/Hectare)'],\n",
              "      dtype='object')"
            ]
          },
          "metadata": {},
          "execution_count": 253
        }
      ],
      "source": [
        "data = pd.read_csv('/content/train_1.csv')\n",
        "season_mapping = {'Kharif': 0, 'Rabi': 1}\n",
        "data['Season'] = data['Season'].map(season_mapping)\n",
        "data.columns"
      ]
    },
    {
      "cell_type": "code",
      "source": [
        "def error(df: pd.DataFrame, x: str, y: str) -> tuple[float, float, float, float, float]:\n",
        "    \"\"\"\n",
        "    this is to calculate the error\n",
        "\n",
        "    Parameters\n",
        "    ----------\n",
        "    df : Dataframe\n",
        "         This df contains dataframe contains predicted and actual yield\n",
        "\n",
        "    x: str\n",
        "\n",
        "        actual yield value column name\n",
        "\n",
        "    y: str\n",
        "\n",
        "        predicated yield value column name\n",
        "\n",
        "    Returns\n",
        "    -------\n",
        "        mae = Mean absoulte error\n",
        "        mse = Mean squared error\n",
        "        var = Variance in model\n",
        "        corr = correlation of model\n",
        "        bias = Bias of the model\n",
        "        r2 = Coefficient of determination\n",
        "    \"\"\"\n",
        "\n",
        "    mae = mean_absolute_error(df[x], df[y]).round(2)\n",
        "    mse = mean_squared_error(df[x], df[y]).round(2)\n",
        "    var = df[y].var().round(2)\n",
        "    corr = round(df[x].corr(df[y]), 2)\n",
        "    bias = (df[x] - df[y]).sum() / (df[y].sum()) * 100\n",
        "    r2 = r2_score(df[x], df[y]).round(3)\n",
        "\n",
        "\n",
        "    print(f'mae = {mae}, mse = {mse}, variance = {var}, corr = {corr}, bias = {bias}, r2 = {r2}')\n",
        "    # return mae, mse, var, corr, bias, r2"
      ],
      "metadata": {
        "id": "rXYy-IbKJ4U7"
      },
      "execution_count": null,
      "outputs": []
    },
    {
      "cell_type": "code",
      "source": [
        "data.columns"
      ],
      "metadata": {
        "colab": {
          "base_uri": "https://localhost:8080/"
        },
        "id": "W1o9TX7dMGh0",
        "outputId": "7c25c4ae-87a4-4da5-c5bd-4dae349b960a"
      },
      "execution_count": null,
      "outputs": [
        {
          "output_type": "execute_result",
          "data": {
            "text/plain": [
              "Index(['Year', 'Season', 'total_Rainfall', 'Wind Speed', 'Temperature (°C)',\n",
              "       'NDVI', 'LST', 'rsm', 'Relative Humidity', 'Yield (Tonnes/Hectare)'],\n",
              "      dtype='object')"
            ]
          },
          "metadata": {},
          "execution_count": 255
        }
      ]
    },
    {
      "cell_type": "markdown",
      "metadata": {
        "id": "87o-m1ZBprdW"
      },
      "source": [
        "Extract features and target variable"
      ]
    },
    {
      "cell_type": "code",
      "execution_count": null,
      "metadata": {
        "id": "aTN7-AZiprdW"
      },
      "outputs": [],
      "source": [
        "# X = data[['NDVI', 'LST', 'rsm', 'Temperature (°C)', 'total_Rainfall', 'Relative Humidity', 'Wind Speed']].values\n",
        "X = data[['NDVI', 'LST', 'rsm','Season' ,'Temperature (°C)', 'total_Rainfall', 'Relative Humidity', 'Wind Speed']]\n",
        "y = data['Yield (Tonnes/Hectare)'].values"
      ]
    },
    {
      "cell_type": "code",
      "source": [
        "# season_mapping = {0: 'Kharif', 1: 'Rabi'}\n",
        "\n",
        "# for sea in [0,1]:\n",
        "\n",
        "#   sea_df = data.loc[data['Season']==sea]\n",
        "\n",
        "#   fig, ax = plt.subplots(figsize=(6, 6), facecolor='white')\n",
        "\n",
        "#   sns.histplot(sea_df['Yield (Tonnes/Hectare)'], kde=True)\n",
        "#   plt.title(season_mapping[sea])"
      ],
      "metadata": {
        "id": "3GL4xYIKpO2g"
      },
      "execution_count": null,
      "outputs": []
    },
    {
      "cell_type": "markdown",
      "metadata": {
        "id": "le1eep5oprdW"
      },
      "source": [
        "Normalize features"
      ]
    },
    {
      "cell_type": "code",
      "execution_count": null,
      "metadata": {
        "id": "kWzy141KprdX"
      },
      "outputs": [],
      "source": [
        "scaler = MinMaxScaler()\n",
        "X_scaled = scaler.fit_transform(X)"
      ]
    },
    {
      "cell_type": "markdown",
      "metadata": {
        "id": "OhkkIriIprdX"
      },
      "source": [
        "Reshape data for CNN"
      ]
    },
    {
      "cell_type": "code",
      "execution_count": null,
      "metadata": {
        "id": "l4hV0ywSprdX",
        "colab": {
          "base_uri": "https://localhost:8080/"
        },
        "outputId": "2b203de8-736c-4480-82ac-98dbb7b204d7"
      },
      "outputs": [
        {
          "output_type": "execute_result",
          "data": {
            "text/plain": [
              "(38, 1, 8, 1)"
            ]
          },
          "metadata": {},
          "execution_count": 331
        }
      ],
      "source": [
        "X_reshaped = X_scaled.reshape(X_scaled.shape[0], 1, X_scaled.shape[1], 1)\n",
        "X_reshaped.shape"
      ]
    },
    {
      "cell_type": "code",
      "source": [
        "X_reshaped.shape"
      ],
      "metadata": {
        "colab": {
          "base_uri": "https://localhost:8080/"
        },
        "id": "_FWvQwRuiAQo",
        "outputId": "ec46fa0f-f7ca-4b4c-e4cd-80ac23b6efe6"
      },
      "execution_count": null,
      "outputs": [
        {
          "output_type": "execute_result",
          "data": {
            "text/plain": [
              "(38, 1, 8, 1)"
            ]
          },
          "metadata": {},
          "execution_count": 332
        }
      ]
    },
    {
      "cell_type": "markdown",
      "metadata": {
        "id": "ha1GDZ4VprdX"
      },
      "source": [
        "Train-test split"
      ]
    },
    {
      "cell_type": "code",
      "execution_count": null,
      "metadata": {
        "id": "Ka4DxjDdprdY"
      },
      "outputs": [],
      "source": [
        "X_train, X_test, y_train, y_test = train_test_split(X_reshaped, y, test_size=0.2, random_state=42)"
      ]
    },
    {
      "cell_type": "markdown",
      "metadata": {
        "id": "bPmiWOzyprdY"
      },
      "source": [
        "Split the data into weather and satellite components"
      ]
    },
    {
      "cell_type": "code",
      "execution_count": null,
      "metadata": {
        "id": "6YX8i2y3prdY",
        "colab": {
          "base_uri": "https://localhost:8080/"
        },
        "outputId": "09c7d113-d221-486d-8282-ba0dfca7e4b0"
      },
      "outputs": [
        {
          "output_type": "execute_result",
          "data": {
            "text/plain": [
              "((8, 1, 4, 1), (8, 1, 4, 1))"
            ]
          },
          "metadata": {},
          "execution_count": 335
        }
      ],
      "source": [
        "val = 4\n",
        "X_weather = X_train[:, :, val:, :]\n",
        "X_satellite = X_train[:, :, :val, :]\n",
        "\n",
        "X_test_wea = X_test[:, :, val:, :]\n",
        "X_test_sat = X_test[:, :, :val, :]\n",
        "\n",
        "X_test_wea.shape, X_test_sat.shape"
      ]
    },
    {
      "cell_type": "markdown",
      "metadata": {
        "id": "4vu6Gs2xprdY"
      },
      "source": [
        "--- Weather CNN Model ---"
      ]
    },
    {
      "cell_type": "code",
      "execution_count": null,
      "metadata": {
        "id": "a_X_5z9dprdZ"
      },
      "outputs": [],
      "source": [
        "in1 = 4\n",
        "\n",
        "weather_model = Sequential()\n",
        "weather_model.add(Conv2D(in1, (1, X_weather.shape[2]),activation='relu', input_shape= (1,X_weather.shape[2], 1)))  # Using Conv2D with appropriate kernel size\n",
        "weather_model.add(MaxPooling2D((1, 1)))\n",
        "weather_model.add((Conv2D(8,(1,1), activation='relu')))\n",
        "weather_model.add(MaxPooling2D((1, 1)))\n",
        "weather_model.add((Conv2D(4,(1,1), activation='relu')))\n",
        "weather_model.add(MaxPooling2D((1, 1)))\n",
        "weather_model.add(Flatten())\n",
        "\n"
      ]
    },
    {
      "cell_type": "markdown",
      "metadata": {
        "id": "ii8gKsilprdZ"
      },
      "source": [
        "--- Satellite CNN Model ---"
      ]
    },
    {
      "cell_type": "code",
      "execution_count": null,
      "metadata": {
        "id": "1uBuDKfxprdZ"
      },
      "outputs": [],
      "source": [
        "satellite_model = Sequential()\n",
        "satellite_model.add(Conv2D(in1, (1, X_satellite.shape[2]), activation='relu', input_shape=(1, X_satellite.shape[2], 1)))\n",
        "satellite_model.add(MaxPooling2D((1, 1)))\n",
        "satellite_model.add((Conv2D(8,(1,1), activation='relu')))\n",
        "satellite_model.add(MaxPooling2D((1, 1)))\n",
        "satellite_model.add((Conv2D(4,(1,1), activation='relu')))\n",
        "satellite_model.add(MaxPooling2D((1, 1)))\n",
        "satellite_model.add(Flatten())"
      ]
    },
    {
      "cell_type": "markdown",
      "metadata": {
        "id": "g8AfFil3prdZ"
      },
      "source": [
        "Concatenate the outputs of the CNN models"
      ]
    },
    {
      "cell_type": "code",
      "execution_count": null,
      "metadata": {
        "id": "nPJl6ZftprdZ"
      },
      "outputs": [],
      "source": [
        "combined_input = Concatenate()([weather_model.output, satellite_model.output])"
      ]
    },
    {
      "cell_type": "markdown",
      "metadata": {
        "id": "OwjDPIjAprdZ"
      },
      "source": [
        "--- RNN Model ---"
      ]
    },
    {
      "cell_type": "code",
      "execution_count": null,
      "metadata": {
        "id": "4udYS3gvprda"
      },
      "outputs": [],
      "source": [
        "rnn_model = Sequential()\n",
        "rnn_model.add(LSTM(50, activation='relu', input_shape=(combined_input.shape[1], 1)))"
      ]
    },
    {
      "cell_type": "markdown",
      "metadata": {
        "id": "9ali9WiVprda"
      },
      "source": [
        "Dense layers"
      ]
    },
    {
      "cell_type": "code",
      "execution_count": null,
      "metadata": {
        "id": "oYoQPY5Uprda"
      },
      "outputs": [],
      "source": [
        "rnn_model.add(Dense(50,activation='relu'))\n",
        "rnn_model.add(Dense(1, activation='relu'))  # Output layer"
      ]
    },
    {
      "cell_type": "markdown",
      "metadata": {
        "id": "Sd09TASsprda"
      },
      "source": [
        "Combined Model"
      ]
    },
    {
      "cell_type": "code",
      "source": [
        "combined_model = None"
      ],
      "metadata": {
        "id": "ngzoyNCmRY5C"
      },
      "execution_count": null,
      "outputs": []
    },
    {
      "cell_type": "code",
      "source": [
        "combined_input.shape"
      ],
      "metadata": {
        "colab": {
          "base_uri": "https://localhost:8080/"
        },
        "id": "E5MJrsQ44HfS",
        "outputId": "3b68e778-8f22-4548-b1c4-2c4ae65cd3e6"
      },
      "execution_count": null,
      "outputs": [
        {
          "output_type": "execute_result",
          "data": {
            "text/plain": [
              "TensorShape([None, 8])"
            ]
          },
          "metadata": {},
          "execution_count": 342
        }
      ]
    },
    {
      "cell_type": "code",
      "execution_count": null,
      "metadata": {
        "id": "algZ5zZaprdb"
      },
      "outputs": [],
      "source": [
        "combined_model = Model(inputs=[weather_model.input, satellite_model.input], outputs=rnn_model(combined_input))"
      ]
    },
    {
      "cell_type": "markdown",
      "metadata": {
        "id": "TP0CBgv5prdb"
      },
      "source": [
        "Compile the model"
      ]
    },
    {
      "cell_type": "code",
      "execution_count": null,
      "metadata": {
        "id": "XjmwsvRwprdc"
      },
      "outputs": [],
      "source": [
        "combined_model.compile(optimizer='adam', loss='mse')  # You can use other optimizers and loss functions based on your task"
      ]
    },
    {
      "cell_type": "markdown",
      "metadata": {
        "id": "P4ivo_suprdd"
      },
      "source": [
        "Train the model"
      ]
    },
    {
      "cell_type": "code",
      "execution_count": null,
      "metadata": {
        "id": "OQ5-dRwuprdd",
        "colab": {
          "base_uri": "https://localhost:8080/"
        },
        "outputId": "6d427638-ee0c-429a-b2d7-c9abbdfc53e6"
      },
      "outputs": [
        {
          "output_type": "stream",
          "name": "stdout",
          "text": [
            "Epoch 1/20\n",
            "27/27 [==============================] - 4s 31ms/step - loss: 9.4766 - val_loss: 6.6478\n",
            "Epoch 2/20\n",
            "27/27 [==============================] - 0s 11ms/step - loss: 5.1976 - val_loss: 2.1854\n",
            "Epoch 3/20\n",
            "27/27 [==============================] - 0s 8ms/step - loss: 0.8106 - val_loss: 0.6614\n",
            "Epoch 4/20\n",
            "27/27 [==============================] - 0s 8ms/step - loss: 0.5894 - val_loss: 0.4884\n",
            "Epoch 5/20\n",
            "27/27 [==============================] - 0s 6ms/step - loss: 0.3855 - val_loss: 0.5629\n",
            "Epoch 6/20\n",
            "27/27 [==============================] - 0s 7ms/step - loss: 0.3535 - val_loss: 0.3452\n",
            "Epoch 7/20\n",
            "27/27 [==============================] - 0s 7ms/step - loss: 0.3221 - val_loss: 0.4091\n",
            "Epoch 8/20\n",
            "27/27 [==============================] - 0s 7ms/step - loss: 0.4463 - val_loss: 0.2263\n",
            "Epoch 9/20\n",
            "27/27 [==============================] - 0s 6ms/step - loss: 0.4072 - val_loss: 0.1962\n",
            "Epoch 10/20\n",
            "27/27 [==============================] - 0s 7ms/step - loss: 0.3352 - val_loss: 0.1952\n",
            "Epoch 11/20\n",
            "27/27 [==============================] - 0s 6ms/step - loss: 0.3555 - val_loss: 0.1907\n",
            "Epoch 12/20\n",
            "27/27 [==============================] - 0s 7ms/step - loss: 0.3535 - val_loss: 0.2225\n",
            "Epoch 13/20\n",
            "27/27 [==============================] - 0s 6ms/step - loss: 0.3297 - val_loss: 0.1874\n",
            "Epoch 14/20\n",
            "27/27 [==============================] - 0s 7ms/step - loss: 0.2757 - val_loss: 0.6406\n",
            "Epoch 15/20\n",
            "27/27 [==============================] - 0s 6ms/step - loss: 0.4502 - val_loss: 0.8286\n",
            "Epoch 16/20\n",
            "27/27 [==============================] - 0s 6ms/step - loss: 0.2463 - val_loss: 0.1937\n",
            "Epoch 17/20\n",
            "27/27 [==============================] - 0s 6ms/step - loss: 0.3735 - val_loss: 0.1950\n",
            "Epoch 18/20\n",
            "27/27 [==============================] - 0s 6ms/step - loss: 0.2984 - val_loss: 0.5488\n"
          ]
        }
      ],
      "source": [
        "early_stopping = EarlyStopping(monitor='val_loss', patience=5, restore_best_weights=True)\n",
        "history = combined_model.fit([X_weather, X_satellite], y_train, epochs=20, batch_size=1, validation_split=0.1, callbacks=[early_stopping]  )"
      ]
    },
    {
      "cell_type": "markdown",
      "source": [],
      "metadata": {
        "id": "nIj1u5vDOVUs"
      }
    },
    {
      "cell_type": "code",
      "source": [
        "plt.figure(figsize=(10, 5))\n",
        "plt.plot(history.history['loss'], label='Training Loss')\n",
        "plt.plot(history.history['val_loss'], label='Validation Loss')\n",
        "plt.xlabel('Epochs')\n",
        "plt.ylabel('Loss')\n",
        "plt.title('Training and Validation Loss')\n",
        "plt.legend()\n",
        "plt.show()"
      ],
      "metadata": {
        "colab": {
          "base_uri": "https://localhost:8080/",
          "height": 492
        },
        "id": "TdPuAb_DGOtL",
        "outputId": "48a6d7e3-ca38-4282-e3ce-bdffdbe9b64b"
      },
      "execution_count": null,
      "outputs": [
        {
          "output_type": "display_data",
          "data": {
            "text/plain": [
              "<Figure size 1000x500 with 1 Axes>"
            ],
            "image/png": "[encoded data removed]"
          },
          "metadata": {}
        }
      ]
    },
    {
      "cell_type": "markdown",
      "metadata": {
        "id": "F_pff4rrprde"
      },
      "source": [
        "Evaluate the model"
      ]
    },
    {
      "cell_type": "code",
      "execution_count": null,
      "metadata": {
        "id": "vRplgFiwprde",
        "colab": {
          "base_uri": "https://localhost:8080/"
        },
        "outputId": "7a1eb5fe-82d4-4e10-f0c4-dc1246302fcf"
      },
      "outputs": [
        {
          "output_type": "stream",
          "name": "stdout",
          "text": [
            "1/1 [==============================] - 0s 295ms/step - loss: 0.2978\n",
            "Mean Squared Error on Test Data: 0.2978200912475586\n"
          ]
        }
      ],
      "source": [
        "loss = combined_model.evaluate([X_test_wea, X_test_sat], y_test)\n",
        "print(f'Mean Squared Error on Test Data: {loss}')"
      ]
    },
    {
      "cell_type": "markdown",
      "metadata": {
        "id": "s1gpJayEprde"
      },
      "source": [
        "Make predictions"
      ]
    },
    {
      "cell_type": "code",
      "execution_count": null,
      "metadata": {
        "id": "VAMa8hxiprdf",
        "colab": {
          "base_uri": "https://localhost:8080/"
        },
        "outputId": "272923a7-60b6-4f17-9e7e-fa24448f9655"
      },
      "outputs": [
        {
          "output_type": "stream",
          "name": "stdout",
          "text": [
            "1/1 [==============================] - 0s 265ms/step\n"
          ]
        },
        {
          "output_type": "execute_result",
          "data": {
            "text/plain": [
              "array([[2.79486  ],\n",
              "       [2.8953876],\n",
              "       [2.9021487],\n",
              "       [2.8422666],\n",
              "       [2.7489707],\n",
              "       [2.8435907],\n",
              "       [2.8894813],\n",
              "       [2.9445462]], dtype=float32)"
            ]
          },
          "metadata": {},
          "execution_count": 348
        }
      ],
      "source": [
        "\n",
        "predictions = combined_model.predict([X_test_wea, X_test_sat])\n",
        "predictions"
      ]
    },
    {
      "cell_type": "code",
      "source": [
        "error_df = pd.DataFrame([y_test, predictions.flatten()]).T\n",
        "error_df.columns = ['Actual_values', 'Predicted_values']\n",
        "error_df.plot.scatter('Actual_values', 'Predicted_values')\n",
        "plt.title('Actual vs Predicted')"
      ],
      "metadata": {
        "id": "H8RxHANGRU27",
        "colab": {
          "base_uri": "https://localhost:8080/",
          "height": 494
        },
        "outputId": "e53c149c-1da5-441e-80cd-16cf29d0df18"
      },
      "execution_count": null,
      "outputs": [
        {
          "output_type": "execute_result",
          "data": {
            "text/plain": [
              "Text(0.5, 1.0, 'Actual vs Predicted')"
            ]
          },
          "metadata": {},
          "execution_count": 349
        },
        {
          "output_type": "display_data",
          "data": {
            "text/plain": [
              "<Figure size 640x480 with 1 Axes>"
            ],
            "image/png": "[encoded data removed]"
          },
          "metadata": {}
        }
      ]
    },
    {
      "cell_type": "code",
      "source": [
        "\n",
        "error(error_df, 'Actual_values', 'Predicted_values')"
      ],
      "metadata": {
        "colab": {
          "base_uri": "https://localhost:8080/"
        },
        "id": "wdwDRdQrIYtj",
        "outputId": "f5a3d9a6-e34b-4064-df34-3b5ad68fe909"
      },
      "execution_count": null,
      "outputs": [
        {
          "output_type": "stream",
          "name": "stdout",
          "text": [
            "mae = 0.36, mse = 0.18, variance = 0.0, corr = -0.3, bias = 1.1132765903731543, r2 = -0.054\n"
          ]
        }
      ]
    },
    {
      "cell_type": "code",
      "source": [
        "predictions_train = combined_model.predict([X_train[:, :, :3, :], X_train[:, :, 3:, :]])"
      ],
      "metadata": {
        "colab": {
          "base_uri": "https://localhost:8080/"
        },
        "id": "qZbSNX0QLNRO",
        "outputId": "eb365373-3ee0-41cd-9b1e-49a2ce8d7967"
      },
      "execution_count": null,
      "outputs": [
        {
          "output_type": "stream",
          "name": "stdout",
          "text": [
            "1/1 [==============================] - 0s 317ms/step\n"
          ]
        }
      ]
    },
    {
      "cell_type": "code",
      "source": [
        "X_train.shape"
      ],
      "metadata": {
        "colab": {
          "base_uri": "https://localhost:8080/"
        },
        "id": "hpDCfiACVadB",
        "outputId": "9bd09439-d8f7-446d-f143-45b686b574ad"
      },
      "execution_count": null,
      "outputs": [
        {
          "output_type": "execute_result",
          "data": {
            "text/plain": [
              "(30, 1, 8, 1)"
            ]
          },
          "metadata": {},
          "execution_count": 350
        }
      ]
    },
    {
      "cell_type": "code",
      "source": [
        "error_df = pd.DataFrame([y_train, predictions_train.flatten()]).T\n",
        "error_df.columns = ['Actual_values', 'Predicted_values']\n",
        "error_df.plot.scatter('Actual_values', 'Predicted_values')\n",
        "plt.title('Actual vs Predicted Train')"
      ],
      "metadata": {
        "colab": {
          "base_uri": "https://localhost:8080/",
          "height": 494
        },
        "id": "BTa4m5BkLdby",
        "outputId": "6e38e812-b3f5-4b39-8c46-d170ff803a26"
      },
      "execution_count": null,
      "outputs": [
        {
          "output_type": "execute_result",
          "data": {
            "text/plain": [
              "Text(0.5, 1.0, 'Actual vs Predicted Train')"
            ]
          },
          "metadata": {},
          "execution_count": 326
        },
        {
          "output_type": "display_data",
          "data": {
            "text/plain": [
              "<Figure size 640x480 with 1 Axes>"
            ],
            "image/png": "[encoded data removed]"
          },
          "metadata": {}
        }
      ]
    },
    {
      "cell_type": "code",
      "source": [
        "error(error_df, 'Actual_values', 'Predicted_values')"
      ],
      "metadata": {
        "colab": {
          "base_uri": "https://localhost:8080/"
        },
        "id": "NwZsMrNuLmiN",
        "outputId": "bf388a3b-6dee-4c7b-ced4-1382d6bae31f"
      },
      "execution_count": null,
      "outputs": [
        {
          "output_type": "stream",
          "name": "stdout",
          "text": [
            "mae = 0.4, mse = 0.3, variance = 0.0, corr = 0.12, bias = -3.212745157981934, r2 = -0.024\n"
          ]
        }
      ]
    },
    {
      "cell_type": "code",
      "source": [
        "import pickle"
      ],
      "metadata": {
        "id": "3cAknB1VawEM"
      },
      "execution_count": null,
      "outputs": []
    },
    {
      "cell_type": "code",
      "source": [
        "with open(f\"main_1.pkl\", 'wb') as src:\n",
        "      pickle.dump(combined_model, src, protocol=3)\n",
        "\n"
      ],
      "metadata": {
        "id": "m5LbcIo_auz4"
      },
      "execution_count": null,
      "outputs": []
    },
    {
      "cell_type": "code",
      "source": [
        "with open(f\"main_slr.pkl\", 'wb') as src:\n",
        "      pickle.dump(scaler, src, protocol=3)"
      ],
      "metadata": {
        "id": "PdDa7NUzHYz7"
      },
      "execution_count": null,
      "outputs": []
    },
    {
      "cell_type": "code",
      "source": [
        "from tensorflow.keras.models import Sequential\n",
        "from tensorflow.keras.layers import Dense, Dropout\n",
        "from tensorflow.keras.callbacks import EarlyStopping\n",
        "\n",
        "# Define a simple neural network\n",
        "model = Sequential([\n",
        "    Dense(64, activation='relu', input_shape=(X_train.shape[1],)),\n",
        "    Dropout(0.3),\n",
        "    Dense(32, activation='relu'),\n",
        "    Dropout(0.3),\n",
        "    Dense(1, activation='linear')\n",
        "])\n",
        "\n",
        "# Compile the model\n",
        "model.compile(optimizer='adam', loss='mean_squared_error', metrics=['mae'])\n",
        "\n",
        "# Early stopping to avoid overfitting\n",
        "early_stopping = EarlyStopping(monitor='val_loss', patience=10, restore_best_weights=True)\n",
        "\n",
        "# Train the model\n",
        "history = model.fit(X_train, y_train, epochs=100, validation_split=0.2, callbacks=[early_stopping])\n",
        "\n",
        "# Evaluate the model\n",
        "test_loss, test_mae = model.evaluate(X_test, y_test)\n",
        "print(f'Test MAE: {test_mae}')\n"
      ],
      "metadata": {
        "id": "Lx4dwbBh58pm",
        "colab": {
          "base_uri": "https://localhost:8080/"
        },
        "outputId": "94ef781d-ebed-4612-8242-7fddd3c2f949"
      },
      "execution_count": null,
      "outputs": [
        {
          "output_type": "stream",
          "name": "stdout",
          "text": [
            "Epoch 1/100\n",
            "1/1 [==============================] - 1s 1s/step - loss: 9.7544 - mae: 3.0761 - val_loss: 9.9183 - val_mae: 3.1018\n",
            "Epoch 2/100\n",
            "1/1 [==============================] - 0s 72ms/step - loss: 9.6233 - mae: 3.0550 - val_loss: 9.8054 - val_mae: 3.0835\n",
            "Epoch 3/100\n",
            "1/1 [==============================] - 0s 38ms/step - loss: 9.5297 - mae: 3.0396 - val_loss: 9.6960 - val_mae: 3.0657\n",
            "Epoch 4/100\n",
            "1/1 [==============================] - 0s 59ms/step - loss: 9.4634 - mae: 3.0285 - val_loss: 9.5892 - val_mae: 3.0482\n",
            "Epoch 5/100\n",
            "1/1 [==============================] - 0s 62ms/step - loss: 9.3104 - mae: 3.0033 - val_loss: 9.4853 - val_mae: 3.0310\n",
            "Epoch 6/100\n",
            "1/1 [==============================] - 0s 57ms/step - loss: 9.2263 - mae: 2.9891 - val_loss: 9.3840 - val_mae: 3.0142\n",
            "Epoch 7/100\n",
            "1/1 [==============================] - 0s 42ms/step - loss: 9.1638 - mae: 2.9786 - val_loss: 9.2852 - val_mae: 2.9976\n",
            "Epoch 8/100\n",
            "1/1 [==============================] - 0s 41ms/step - loss: 9.1273 - mae: 2.9724 - val_loss: 9.1900 - val_mae: 2.9816\n",
            "Epoch 9/100\n",
            "1/1 [==============================] - 0s 52ms/step - loss: 8.9530 - mae: 2.9427 - val_loss: 9.0968 - val_mae: 2.9658\n",
            "Epoch 10/100\n",
            "1/1 [==============================] - 0s 61ms/step - loss: 8.8543 - mae: 2.9258 - val_loss: 9.0050 - val_mae: 2.9501\n",
            "Epoch 11/100\n",
            "1/1 [==============================] - 0s 58ms/step - loss: 8.8205 - mae: 2.9198 - val_loss: 8.9144 - val_mae: 2.9345\n",
            "Epoch 12/100\n",
            "1/1 [==============================] - 0s 58ms/step - loss: 8.7188 - mae: 2.9020 - val_loss: 8.8245 - val_mae: 2.9190\n",
            "Epoch 13/100\n",
            "1/1 [==============================] - 0s 56ms/step - loss: 8.6040 - mae: 2.8820 - val_loss: 8.7365 - val_mae: 2.9036\n",
            "Epoch 14/100\n",
            "1/1 [==============================] - 0s 57ms/step - loss: 8.5366 - mae: 2.8702 - val_loss: 8.6506 - val_mae: 2.8886\n",
            "Epoch 15/100\n",
            "1/1 [==============================] - 0s 60ms/step - loss: 8.4284 - mae: 2.8509 - val_loss: 8.5655 - val_mae: 2.8736\n",
            "Epoch 16/100\n",
            "1/1 [==============================] - 0s 39ms/step - loss: 8.3281 - mae: 2.8325 - val_loss: 8.4807 - val_mae: 2.8586\n",
            "Epoch 17/100\n",
            "1/1 [==============================] - 0s 38ms/step - loss: 8.2594 - mae: 2.8203 - val_loss: 8.3955 - val_mae: 2.8434\n",
            "Epoch 18/100\n",
            "1/1 [==============================] - 0s 58ms/step - loss: 8.1991 - mae: 2.8096 - val_loss: 8.3098 - val_mae: 2.8280\n",
            "Epoch 19/100\n",
            "1/1 [==============================] - 0s 55ms/step - loss: 8.0281 - mae: 2.7782 - val_loss: 8.2238 - val_mae: 2.8125\n",
            "Epoch 20/100\n",
            "1/1 [==============================] - 0s 47ms/step - loss: 8.0005 - mae: 2.7725 - val_loss: 8.1372 - val_mae: 2.7968\n",
            "Epoch 21/100\n",
            "1/1 [==============================] - 0s 38ms/step - loss: 7.8792 - mae: 2.7503 - val_loss: 8.0492 - val_mae: 2.7807\n",
            "Epoch 22/100\n",
            "1/1 [==============================] - 0s 56ms/step - loss: 7.7977 - mae: 2.7356 - val_loss: 7.9596 - val_mae: 2.7643\n",
            "Epoch 23/100\n",
            "1/1 [==============================] - 0s 56ms/step - loss: 7.6838 - mae: 2.7135 - val_loss: 7.8688 - val_mae: 2.7475\n",
            "Epoch 24/100\n",
            "1/1 [==============================] - 0s 38ms/step - loss: 7.6988 - mae: 2.7159 - val_loss: 7.7768 - val_mae: 2.7303\n",
            "Epoch 25/100\n",
            "1/1 [==============================] - 0s 42ms/step - loss: 7.5963 - mae: 2.6970 - val_loss: 7.6835 - val_mae: 2.7128\n",
            "Epoch 26/100\n",
            "1/1 [==============================] - 0s 58ms/step - loss: 7.4085 - mae: 2.6600 - val_loss: 7.5887 - val_mae: 2.6949\n",
            "Epoch 27/100\n",
            "1/1 [==============================] - 0s 58ms/step - loss: 7.4029 - mae: 2.6603 - val_loss: 7.4921 - val_mae: 2.6765\n",
            "Epoch 28/100\n",
            "1/1 [==============================] - 0s 55ms/step - loss: 7.2293 - mae: 2.6254 - val_loss: 7.3938 - val_mae: 2.6577\n",
            "Epoch 29/100\n",
            "1/1 [==============================] - 0s 58ms/step - loss: 7.1971 - mae: 2.6197 - val_loss: 7.2937 - val_mae: 2.6383\n",
            "Epoch 30/100\n",
            "1/1 [==============================] - 0s 57ms/step - loss: 7.1667 - mae: 2.6141 - val_loss: 7.1922 - val_mae: 2.6185\n",
            "Epoch 31/100\n",
            "1/1 [==============================] - 0s 39ms/step - loss: 7.0046 - mae: 2.5804 - val_loss: 7.0893 - val_mae: 2.5983\n",
            "Epoch 32/100\n",
            "1/1 [==============================] - 0s 39ms/step - loss: 6.8277 - mae: 2.5465 - val_loss: 6.9849 - val_mae: 2.5775\n",
            "Epoch 33/100\n",
            "1/1 [==============================] - 0s 37ms/step - loss: 6.7015 - mae: 2.5185 - val_loss: 6.8786 - val_mae: 2.5562\n",
            "Epoch 34/100\n",
            "1/1 [==============================] - 0s 39ms/step - loss: 6.5825 - mae: 2.4944 - val_loss: 6.7706 - val_mae: 2.5344\n",
            "Epoch 35/100\n",
            "1/1 [==============================] - 0s 38ms/step - loss: 6.5829 - mae: 2.4955 - val_loss: 6.6612 - val_mae: 2.5121\n",
            "Epoch 36/100\n",
            "1/1 [==============================] - 0s 39ms/step - loss: 6.3276 - mae: 2.4381 - val_loss: 6.5503 - val_mae: 2.4892\n",
            "Epoch 37/100\n",
            "1/1 [==============================] - 0s 39ms/step - loss: 6.2414 - mae: 2.4198 - val_loss: 6.4379 - val_mae: 2.4657\n",
            "Epoch 38/100\n",
            "1/1 [==============================] - 0s 43ms/step - loss: 6.1583 - mae: 2.4026 - val_loss: 6.3241 - val_mae: 2.4418\n",
            "Epoch 39/100\n",
            "1/1 [==============================] - 0s 42ms/step - loss: 6.0019 - mae: 2.3697 - val_loss: 6.2088 - val_mae: 2.4172\n",
            "Epoch 40/100\n",
            "1/1 [==============================] - 0s 60ms/step - loss: 5.9134 - mae: 2.3486 - val_loss: 6.0923 - val_mae: 2.3921\n",
            "Epoch 41/100\n",
            "1/1 [==============================] - 0s 39ms/step - loss: 5.9688 - mae: 2.3613 - val_loss: 5.9748 - val_mae: 2.3664\n",
            "Epoch 42/100\n",
            "1/1 [==============================] - 0s 38ms/step - loss: 5.8269 - mae: 2.3287 - val_loss: 5.8563 - val_mae: 2.3403\n",
            "Epoch 43/100\n",
            "1/1 [==============================] - 0s 41ms/step - loss: 5.5336 - mae: 2.2586 - val_loss: 5.7367 - val_mae: 2.3135\n",
            "Epoch 44/100\n",
            "1/1 [==============================] - 0s 39ms/step - loss: 5.4974 - mae: 2.2502 - val_loss: 5.6162 - val_mae: 2.2862\n",
            "Epoch 45/100\n",
            "1/1 [==============================] - 0s 60ms/step - loss: 5.3682 - mae: 2.2198 - val_loss: 5.4948 - val_mae: 2.2582\n",
            "Epoch 46/100\n",
            "1/1 [==============================] - 0s 39ms/step - loss: 5.2818 - mae: 2.2004 - val_loss: 5.3725 - val_mae: 2.2297\n",
            "Epoch 47/100\n",
            "1/1 [==============================] - 0s 39ms/step - loss: 5.1777 - mae: 2.1754 - val_loss: 5.2496 - val_mae: 2.2006\n",
            "Epoch 48/100\n",
            "1/1 [==============================] - 0s 59ms/step - loss: 5.0929 - mae: 2.1601 - val_loss: 5.1260 - val_mae: 2.1710\n",
            "Epoch 49/100\n",
            "1/1 [==============================] - 0s 70ms/step - loss: 4.9993 - mae: 2.1307 - val_loss: 5.0021 - val_mae: 2.1407\n",
            "Epoch 50/100\n",
            "1/1 [==============================] - 0s 64ms/step - loss: 4.8049 - mae: 2.0828 - val_loss: 4.8778 - val_mae: 2.1099\n",
            "Epoch 51/100\n",
            "1/1 [==============================] - 0s 56ms/step - loss: 4.8104 - mae: 2.0800 - val_loss: 4.7533 - val_mae: 2.0785\n",
            "Epoch 52/100\n",
            "1/1 [==============================] - 0s 48ms/step - loss: 4.4722 - mae: 1.9931 - val_loss: 4.6287 - val_mae: 2.0464\n",
            "Epoch 53/100\n",
            "1/1 [==============================] - 0s 54ms/step - loss: 4.4807 - mae: 1.9988 - val_loss: 4.5040 - val_mae: 2.0138\n",
            "Epoch 54/100\n",
            "1/1 [==============================] - 0s 67ms/step - loss: 4.3988 - mae: 1.9737 - val_loss: 4.3795 - val_mae: 1.9807\n",
            "Epoch 55/100\n",
            "1/1 [==============================] - 0s 70ms/step - loss: 4.2462 - mae: 1.9253 - val_loss: 4.2554 - val_mae: 1.9470\n",
            "Epoch 56/100\n",
            "1/1 [==============================] - 0s 69ms/step - loss: 4.1014 - mae: 1.8898 - val_loss: 4.1318 - val_mae: 1.9127\n",
            "Epoch 57/100\n",
            "1/1 [==============================] - 0s 65ms/step - loss: 3.8725 - mae: 1.8251 - val_loss: 4.0089 - val_mae: 1.8779\n",
            "Epoch 58/100\n",
            "1/1 [==============================] - 0s 91ms/step - loss: 3.8246 - mae: 1.8050 - val_loss: 3.8868 - val_mae: 1.8426\n",
            "Epoch 59/100\n",
            "1/1 [==============================] - 0s 67ms/step - loss: 3.7754 - mae: 1.7893 - val_loss: 3.7658 - val_mae: 1.8081\n",
            "Epoch 60/100\n",
            "1/1 [==============================] - 0s 70ms/step - loss: 3.6046 - mae: 1.7389 - val_loss: 3.6460 - val_mae: 1.7734\n",
            "Epoch 61/100\n",
            "1/1 [==============================] - 0s 70ms/step - loss: 3.5333 - mae: 1.7171 - val_loss: 3.5277 - val_mae: 1.7383\n",
            "Epoch 62/100\n",
            "1/1 [==============================] - 0s 75ms/step - loss: 3.4849 - mae: 1.7019 - val_loss: 3.4108 - val_mae: 1.7031\n",
            "Epoch 63/100\n",
            "1/1 [==============================] - 0s 54ms/step - loss: 3.3942 - mae: 1.6805 - val_loss: 3.2956 - val_mae: 1.6675\n",
            "Epoch 64/100\n",
            "1/1 [==============================] - 0s 55ms/step - loss: 3.1600 - mae: 1.6058 - val_loss: 3.1822 - val_mae: 1.6317\n",
            "Epoch 65/100\n",
            "1/1 [==============================] - 0s 67ms/step - loss: 3.1073 - mae: 1.5788 - val_loss: 3.0709 - val_mae: 1.5962\n",
            "Epoch 66/100\n",
            "1/1 [==============================] - 0s 66ms/step - loss: 2.8633 - mae: 1.5045 - val_loss: 2.9619 - val_mae: 1.5612\n",
            "Epoch 67/100\n",
            "1/1 [==============================] - 0s 146ms/step - loss: 2.9372 - mae: 1.5376 - val_loss: 2.8549 - val_mae: 1.5260\n",
            "Epoch 68/100\n",
            "1/1 [==============================] - 0s 84ms/step - loss: 2.8168 - mae: 1.4888 - val_loss: 2.7510 - val_mae: 1.4906\n",
            "Epoch 69/100\n",
            "1/1 [==============================] - 0s 101ms/step - loss: 2.6900 - mae: 1.4484 - val_loss: 2.6497 - val_mae: 1.4553\n",
            "Epoch 70/100\n",
            "1/1 [==============================] - 0s 122ms/step - loss: 2.5284 - mae: 1.3812 - val_loss: 2.5516 - val_mae: 1.4206\n",
            "Epoch 71/100\n",
            "1/1 [==============================] - 0s 105ms/step - loss: 2.4723 - mae: 1.3609 - val_loss: 2.4569 - val_mae: 1.3860\n",
            "Epoch 72/100\n",
            "1/1 [==============================] - 0s 112ms/step - loss: 2.3888 - mae: 1.3522 - val_loss: 2.3650 - val_mae: 1.3513\n",
            "Epoch 73/100\n",
            "1/1 [==============================] - 0s 143ms/step - loss: 2.3868 - mae: 1.3252 - val_loss: 2.2767 - val_mae: 1.3173\n",
            "Epoch 74/100\n",
            "1/1 [==============================] - 0s 129ms/step - loss: 2.2797 - mae: 1.2964 - val_loss: 2.1917 - val_mae: 1.2843\n",
            "Epoch 75/100\n",
            "1/1 [==============================] - 0s 188ms/step - loss: 2.1653 - mae: 1.2540 - val_loss: 2.1101 - val_mae: 1.2534\n",
            "Epoch 76/100\n",
            "1/1 [==============================] - 0s 195ms/step - loss: 2.2205 - mae: 1.2834 - val_loss: 2.0320 - val_mae: 1.2232\n",
            "Epoch 77/100\n",
            "1/1 [==============================] - 0s 127ms/step - loss: 2.1460 - mae: 1.2452 - val_loss: 1.9578 - val_mae: 1.1942\n",
            "Epoch 78/100\n",
            "1/1 [==============================] - 0s 174ms/step - loss: 2.0350 - mae: 1.2101 - val_loss: 1.8872 - val_mae: 1.1683\n",
            "Epoch 79/100\n",
            "1/1 [==============================] - 0s 129ms/step - loss: 1.9824 - mae: 1.1836 - val_loss: 1.8209 - val_mae: 1.1445\n",
            "Epoch 80/100\n",
            "1/1 [==============================] - 0s 144ms/step - loss: 1.9510 - mae: 1.1841 - val_loss: 1.7584 - val_mae: 1.1211\n",
            "Epoch 81/100\n",
            "1/1 [==============================] - 0s 122ms/step - loss: 1.9211 - mae: 1.1704 - val_loss: 1.6994 - val_mae: 1.0985\n",
            "Epoch 82/100\n",
            "1/1 [==============================] - 0s 129ms/step - loss: 1.8674 - mae: 1.1442 - val_loss: 1.6446 - val_mae: 1.0776\n",
            "Epoch 83/100\n",
            "1/1 [==============================] - 0s 149ms/step - loss: 1.8017 - mae: 1.1238 - val_loss: 1.5940 - val_mae: 1.0581\n",
            "Epoch 84/100\n",
            "1/1 [==============================] - 0s 126ms/step - loss: 1.7432 - mae: 1.1100 - val_loss: 1.5468 - val_mae: 1.0395\n",
            "Epoch 85/100\n",
            "1/1 [==============================] - 0s 72ms/step - loss: 1.6876 - mae: 1.0996 - val_loss: 1.5026 - val_mae: 1.0219\n",
            "Epoch 86/100\n",
            "1/1 [==============================] - 0s 81ms/step - loss: 1.5952 - mae: 1.0585 - val_loss: 1.4620 - val_mae: 1.0053\n",
            "Epoch 87/100\n",
            "1/1 [==============================] - 0s 59ms/step - loss: 1.6373 - mae: 1.0725 - val_loss: 1.4245 - val_mae: 0.9898\n",
            "Epoch 88/100\n",
            "1/1 [==============================] - 0s 70ms/step - loss: 1.7057 - mae: 1.1039 - val_loss: 1.3899 - val_mae: 0.9755\n",
            "Epoch 89/100\n",
            "1/1 [==============================] - 0s 48ms/step - loss: 1.7098 - mae: 1.0992 - val_loss: 1.3585 - val_mae: 0.9632\n",
            "Epoch 90/100\n",
            "1/1 [==============================] - 0s 39ms/step - loss: 1.7596 - mae: 1.0975 - val_loss: 1.3303 - val_mae: 0.9527\n",
            "Epoch 91/100\n",
            "1/1 [==============================] - 0s 39ms/step - loss: 1.5590 - mae: 1.0462 - val_loss: 1.3044 - val_mae: 0.9430\n",
            "Epoch 92/100\n",
            "1/1 [==============================] - 0s 41ms/step - loss: 1.5689 - mae: 1.0551 - val_loss: 1.2809 - val_mae: 0.9339\n",
            "Epoch 93/100\n",
            "1/1 [==============================] - 0s 42ms/step - loss: 1.5155 - mae: 1.0244 - val_loss: 1.2600 - val_mae: 0.9259\n",
            "Epoch 94/100\n",
            "1/1 [==============================] - 0s 38ms/step - loss: 1.5512 - mae: 1.0263 - val_loss: 1.2412 - val_mae: 0.9188\n",
            "Epoch 95/100\n",
            "1/1 [==============================] - 0s 38ms/step - loss: 1.5336 - mae: 1.0238 - val_loss: 1.2246 - val_mae: 0.9121\n",
            "Epoch 96/100\n",
            "1/1 [==============================] - 0s 43ms/step - loss: 1.5178 - mae: 1.0299 - val_loss: 1.2096 - val_mae: 0.9060\n",
            "Epoch 97/100\n",
            "1/1 [==============================] - 0s 38ms/step - loss: 1.5598 - mae: 1.0353 - val_loss: 1.1961 - val_mae: 0.9003\n",
            "Epoch 98/100\n",
            "1/1 [==============================] - 0s 39ms/step - loss: 1.6634 - mae: 1.0790 - val_loss: 1.1841 - val_mae: 0.8951\n",
            "Epoch 99/100\n",
            "1/1 [==============================] - 0s 57ms/step - loss: 1.5110 - mae: 1.0197 - val_loss: 1.1731 - val_mae: 0.8904\n",
            "Epoch 100/100\n",
            "1/1 [==============================] - 0s 36ms/step - loss: 1.5323 - mae: 1.0227 - val_loss: 1.1630 - val_mae: 0.8861\n",
            "1/1 [==============================] - 0s 24ms/step - loss: 1.2383 - mae: 0.9247\n",
            "Test MAE: 0.9246776103973389\n"
          ]
        }
      ]
    },
    {
      "cell_type": "code",
      "source": [
        "plt.figure(figsize=(10, 5))\n",
        "plt.plot(history.history['loss'], label='Training Loss')\n",
        "plt.plot(history.history['val_loss'], label='Validation Loss')\n",
        "plt.xlabel('Epochs')\n",
        "plt.ylabel('Loss')\n",
        "plt.title('Training and Validation Loss')\n",
        "plt.legend()\n",
        "plt.show()"
      ],
      "metadata": {
        "colab": {
          "base_uri": "https://localhost:8080/",
          "height": 492
        },
        "id": "HA-eidk8EpbY",
        "outputId": "54a98ed0-a4b7-406c-cdfb-f56686e8b262"
      },
      "execution_count": null,
      "outputs": [
        {
          "output_type": "display_data",
          "data": {
            "text/plain": [
              "<Figure size 1000x500 with 1 Axes>"
            ],
            "image/png": "[encoded data removed]"
          },
          "metadata": {}
        }
      ]
    },
    {
      "cell_type": "code",
      "source": [
        "import pandas as pd\n",
        "from sklearn.model_selection import train_test_split\n",
        "from sklearn.preprocessing import MinMaxScaler\n",
        "from sklearn.ensemble import RandomForestRegressor\n",
        "from sklearn.metrics import mean_absolute_error, mean_squared_error, r2_score\n",
        "\n",
        "# Load the dataset\n",
        "data = pd.read_csv('train_1.csv')\n",
        "\n",
        "# Encode categorical variables\n",
        "season_mapping = {'Kharif': 0, 'Rabi': 1}\n",
        "data['Season'] = data['Season'].map(season_mapping)\n",
        "\n",
        "# Select features and target\n",
        "X = data[['NDVI', 'LST', 'rsm', 'Season', 'Temperature (°C)', 'total_Rainfall', 'Relative Humidity', 'Wind Speed']]\n",
        "y = data['Yield (Tonnes/Hectare)']\n",
        "\n",
        "# Normalize the features\n",
        "scaler = MinMaxScaler()\n",
        "X_scaled = scaler.fit_transform(X)\n",
        "\n",
        "# Split the data into training and testing sets\n",
        "X_train, X_test, y_train, y_test = train_test_split(X_scaled, y, test_size=0.2, random_state=42)\n",
        "\n",
        "# Train the Random Forest model\n",
        "rf_model = RandomForestRegressor(n_estimators=100, random_state=42)\n",
        "rf_model.fit(X_train, y_train)\n",
        "\n",
        "# Make predictions\n",
        "y_pred = rf_model.predict(X_test)\n",
        "\n",
        "# Evaluate the model\n",
        "mae = mean_absolute_error(y_test, y_pred)\n",
        "mse = mean_squared_error(y_test, y_pred)\n",
        "r2 = r2_score(y_test, y_pred)\n",
        "\n",
        "print(f'Mean Absolute Error (MAE): {mae}')\n",
        "print(f'Mean Squared Error (MSE): {mse}')\n",
        "print(f'R-squared (R2 ): {r2}')\n"
      ],
      "metadata": {
        "colab": {
          "base_uri": "https://localhost:8080/"
        },
        "id": "YjmNrGqHE2Qb",
        "outputId": "12fba08c-966f-465a-b1d1-a17c93edb1dd"
      },
      "execution_count": null,
      "outputs": [
        {
          "output_type": "stream",
          "name": "stdout",
          "text": [
            "Mean Absolute Error (MAE): 0.35075400638143767\n",
            "Mean Squared Error (MSE): 0.14363904773559044\n",
            "R-squared (R2 ): 0.15280072671021738\n"
          ]
        }
      ]
    },
    {
      "cell_type": "code",
      "source": [
        "error_df = pd.DataFrame([y_test, y_pred]).T\n",
        "error_df.columns = ['Actual_values', 'Predicted_values']\n",
        "error_df.plot.scatter('Actual_values', 'Predicted_values')\n",
        "plt.title('Actual vs Predicted')"
      ],
      "metadata": {
        "colab": {
          "base_uri": "https://localhost:8080/",
          "height": 494
        },
        "id": "fIsdB7cVsdGK",
        "outputId": "842f8fbc-0cf3-4e92-969c-0185432984a1"
      },
      "execution_count": null,
      "outputs": [
        {
          "output_type": "execute_result",
          "data": {
            "text/plain": [
              "Text(0.5, 1.0, 'Actual vs Predicted')"
            ]
          },
          "metadata": {},
          "execution_count": 235
        },
        {
          "output_type": "display_data",
          "data": {
            "text/plain": [
              "<Figure size 640x480 with 1 Axes>"
            ],
            "image/png": "[encoded data removed]"
          },
          "metadata": {}
        }
      ]
    },
    {
      "cell_type": "code",
      "source": [],
      "metadata": {
        "id": "VTEktFYOt0Xm"
      },
      "execution_count": null,
      "outputs": []
    }
  ],
  "metadata": {
    "kernelspec": {
      "display_name": "Python 3",
      "language": "python",
      "name": "python3"
    },
    "language_info": {
      "codemirror_mode": {
        "name": "ipython",
        "version": 3
      },
      "file_extension": ".py",
      "mimetype": "text/x-python",
      "name": "python",
      "nbconvert_exporter": "python",
      "pygments_lexer": "ipython3",
      "version": "3.6.4"
    },
    "colab": {
      "provenance": [],
      "toc_visible": true,
      "include_colab_link": true
    }
  },
  "nbformat": 4,
  "nbformat_minor": 0
}